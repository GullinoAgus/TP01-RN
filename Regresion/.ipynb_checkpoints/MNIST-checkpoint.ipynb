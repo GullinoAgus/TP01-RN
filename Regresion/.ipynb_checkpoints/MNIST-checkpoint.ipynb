{
 "cells": [
  {
   "cell_type": "code",
   "execution_count": null,
   "id": "e5f0dd1d-ac03-404b-91d0-4141cd6cdc11",
   "metadata": {
    "tags": []
   },
   "outputs": [],
   "source": [
    "pip install -q -U tensorflow_addons"
   ]
  },
  {
   "cell_type": "code",
   "execution_count": null,
   "id": "e42c3fec-d1f9-4e1b-bb62-f0d931a5a502",
   "metadata": {
    "tags": []
   },
   "outputs": [],
   "source": [
    "%matplotlib widget\n",
    "\n",
    "import numpy as np\n",
    "import matplotlib.pyplot as plt\n",
    "import ipyplot as plt2\n",
    "import seaborn as sns\n",
    "from tensorflow.keras.datasets import mnist\n",
    "import pandas as pd\n",
    "\n",
    "(x_train, y_train), (x_test, y_test) = mnist.load_data()\n",
    "x_train, x_test = x_train/255, x_test/255\n",
    "rad2deg = 180/np.pi\n",
    "\n",
    "train_morpho = pd.read_csv(\"train-morpho.csv\")[:50000]\n",
    "test_morpho = pd.read_csv(\"t10k-morpho.csv\")\n",
    "train_morpho['slant'] = train_morpho['slant'].map(lambda x: x*rad2deg)\n",
    "test_morpho['slant'] = test_morpho['slant'].map(lambda x: x*rad2deg)\n"
   ]
  },
  {
   "cell_type": "markdown",
   "id": "5b9801e3-32ce-4564-945a-9bf8afa510f7",
   "metadata": {},
   "source": [
    "# EDA"
   ]
  },
  {
   "cell_type": "code",
   "execution_count": null,
   "id": "e0914590-34e6-4f09-afcb-7ab8226f4d5c",
   "metadata": {
    "tags": []
   },
   "outputs": [],
   "source": [
    "display(train_morpho)"
   ]
  },
  {
   "cell_type": "code",
   "execution_count": null,
   "id": "1a69aee1-becf-4adf-b8a1-a508384d5963",
   "metadata": {
    "tags": []
   },
   "outputs": [],
   "source": [
    "plt2.plot_class_tabs(x_train, y_train, img_width=28, show_url=False, zoom_scale=3)"
   ]
  },
  {
   "cell_type": "code",
   "execution_count": null,
   "id": "0ca9a3ac-9cc6-4fcb-8618-f1bdbe9642fb",
   "metadata": {},
   "outputs": [],
   "source": [
    "plt.figure()\n",
    "plt.hist(y_train, rwidth=0.8)\n",
    "plt.show()"
   ]
  },
  {
   "cell_type": "code",
   "execution_count": null,
   "id": "ac610cdd-7a73-4210-8e61-dabd9e5c768e",
   "metadata": {},
   "outputs": [],
   "source": [
    "fig, axes = plt.subplots(5, 2, )\n",
    "fig.set_figwidth(10)\n",
    "fig.set_figheight(10)\n",
    "fig.set_tight_layout(True)\n",
    "for i in range(len(axes)):\n",
    "    for j in range(len(axes[i])):\n",
    "        axes[i, j].hist(train_morpho['slant'][y_train==(2*i+j)])\n",
    "        axes[i,j].set_title((2*i+j))\n",
    "        \n",
    "plt.show()"
   ]
  },
  {
   "cell_type": "code",
   "execution_count": null,
   "id": "5cfb806a-2d55-4369-ad04-bd37b651757d",
   "metadata": {
    "tags": []
   },
   "outputs": [],
   "source": [
    "class_mean_x = [np.mean(x_train[y_train==i], (0)) for i in range(10)]\n",
    "plt2.plot_images(class_mean_x)"
   ]
  },
  {
   "cell_type": "code",
   "execution_count": null,
   "id": "0a92a0a8-7eb6-4b0f-ab34-8140f4fc2806",
   "metadata": {
    "tags": []
   },
   "outputs": [],
   "source": [
    "fig, axes = plt.subplots(5, 2, )\n",
    "fig.set_figwidth(10)\n",
    "fig.set_figheight(15)\n",
    "fig.set_tight_layout(True)\n",
    "for i in range(len(axes)):\n",
    "    for j in range(len(axes[i])):\n",
    "        slants = train_morpho[\"slant\"][y_train==(2*i+j)]\n",
    "        axes[i, j].violinplot(slants)\n",
    "        axes[i,j].set_title(f\"{2*i+j} mean: {np.round(np.mean(slants), 4)}\")\n",
    "        axes[i,j].set_ylim(bottom=-1.1, top=1.1)\n",
    "        \n",
    "plt.show()"
   ]
  },
  {
   "cell_type": "markdown",
   "id": "5b119e61-103c-4af8-8400-11a93b04f0cf",
   "metadata": {},
   "source": [
    "Muchos de los numeros tienen distribuciones muy similares en el slant, ademas hay bastante dispersion."
   ]
  },
  {
   "cell_type": "code",
   "execution_count": null,
   "id": "58b87724-c563-4e7e-8b51-53b9692466d5",
   "metadata": {},
   "outputs": [],
   "source": [
    "plt.figure()\n",
    "corr_matrix = train_morpho.corr()\n",
    "sns.heatmap(corr_matrix, annot=True)\n",
    "plt.show()"
   ]
  },
  {
   "cell_type": "markdown",
   "id": "181a58cc-ca95-46bf-b498-489034cc1de4",
   "metadata": {},
   "source": [
    "La mayor correlacion con el slant la comparte el width. De todas formas es relativamente baja"
   ]
  },
  {
   "cell_type": "markdown",
   "id": "ffef64ef-f838-41e9-ae32-de2075108063",
   "metadata": {},
   "source": [
    "# Model training"
   ]
  },
  {
   "cell_type": "code",
   "execution_count": null,
   "id": "e581284a-3733-4157-99d1-92a0ac4b0362",
   "metadata": {
    "tags": []
   },
   "outputs": [],
   "source": [
    "import os\n",
    "os.environ['TF_CPP_MIN_LOG_LEVEL'] = '1'\n",
    "from helper import *\n",
    "import tensorflow as tf\n",
    "from tensorflow import keras\n",
    "from sklearn.metrics import f1_score, precision_score, recall_score, classification_report, ConfusionMatrixDisplay, confusion_matrix\n",
    "from tensorflow.keras import optimizers as opt\n",
    "from tensorflow.keras.layers import Dense, Flatten, Dropout, BatchNormalization, Embedding, Concatenate, Input, Normalization\n",
    "from tensorflow.keras import Sequential, Model\n",
    "from tensorflow_addons.optimizers import CyclicalLearningRate, Triangular2CyclicalLearningRate, TriangularCyclicalLearningRate\n",
    "\n",
    "\n",
    "metrics=['mean_squared_error']\n",
    "\n",
    "#keras.utils.set_random_seed(hash(\"Los buenos caballos y los buenos estudiantes siempre terminan su carrera.\") % 2**32)\n",
    "\n",
    "\n",
    "width_mean = train_morpho[\"width\"].mean()\n",
    "width_std = train_morpho[\"width\"].std()\n",
    "if np.abs(width_mean) > 1:\n",
    "    train_morpho[\"width\"] = train_morpho[\"width\"].apply(lambda x: (x-width_mean)/width_std)\n",
    "    print(train_morpho[\"width\"])"
   ]
  },
  {
   "cell_type": "code",
   "execution_count": null,
   "id": "fd5097eb-6239-4519-92dd-023a01c54af2",
   "metadata": {
    "tags": []
   },
   "outputs": [],
   "source": [
    "model = Sequential()\n",
    "model.add(Flatten(input_shape=(28, 28)))\n",
    "model.add(Dense(100, activation='sigmoid'))\n",
    "model.add(Dense(100, activation='sigmoid'))\n",
    "model.add(Dense(1))\n",
    "\n",
    "clr = Triangular2CyclicalLearningRate(5e-5, 0.01, 5 * 196)\n",
    "\n",
    "model.compile(optimizer=opt.Adamax(clr), loss='MAE')\n",
    "model.summary()"
   ]
  },
  {
   "cell_type": "code",
   "execution_count": null,
   "id": "7857c318-faf8-4771-8983-e23ba94218ef",
   "metadata": {
    "tags": []
   },
   "outputs": [],
   "source": [
    "earlyStopCB = tf.keras.callbacks.EarlyStopping(monitor='val_loss', patience=20, restore_best_weights=True)\n",
    "LearningSchedulerCB = tf.keras.callbacks.ReduceLROnPlateau(monitor='loss', factor=0.5, min_lr=5e-9, patience=5)\n",
    "\n",
    "history = model.fit(x=x_train, y=train_morpho[\"slant\"], batch_size=256, epochs=1000, validation_data=(x_test, test_morpho[\"slant\"]), callbacks=[earlyStopCB, LearningSchedulerCB])"
   ]
  },
  {
   "cell_type": "code",
   "execution_count": null,
   "id": "2fbbbf54-c9ca-4967-a7c5-ee2bd50beda6",
   "metadata": {},
   "outputs": [],
   "source": [
    "input_img = Input((28, 28))\n",
    "input_width = Input(1,)\n",
    "flatten = Flatten()(input_img)\n",
    "concat = Concatenate()([flatten, input_width])\n",
    "dense = Dense(100, activation='sigmoid')(concat)\n",
    "dense = Dense(100, activation='sigmoid')(dense)\n",
    "\n",
    "out = Dense(1)(dense)\n",
    "    \n",
    "model = Model([input_img, input_width], out)\n",
    "\n",
    "clr = Triangular2CyclicalLearningRate(5e-6, 0.01, 5 * 196)\n",
    "\n",
    "model.compile(optimizer=opt.Adamax(clr), loss='mae')\n",
    "model.summary()"
   ]
  },
  {
   "cell_type": "code",
   "execution_count": null,
   "id": "e0e405b7-30b2-4f1e-a0d3-f00f131ee0b6",
   "metadata": {},
   "outputs": [],
   "source": [
    "earlyStopCB = tf.keras.callbacks.EarlyStopping(monitor='val_loss', patience=20, restore_best_weights=True)\n",
    "LearningSchedulerCB = tf.keras.callbacks.ReduceLROnPlateau(monitor='loss', factor=0.5, min_lr=5e-9, patience=5)\n",
    "\n",
    "history = model.fit(x=[x_train, train_morpho[\"width\"]], y=train_morpho[\"slant\"], batch_size=256, epochs=1000, validation_data=([x_test, test_morpho[\"width\"]], test_morpho[\"slant\"]), callbacks=[earlyStopCB, LearningSchedulerCB])"
   ]
  },
  {
   "cell_type": "code",
   "execution_count": null,
   "id": "ead57944-0274-450c-846b-9fae5f77a704",
   "metadata": {
    "tags": []
   },
   "outputs": [],
   "source": [
    "\n",
    "input_img = Input((28, 28))\n",
    "input_lbl = Input(1,)\n",
    "flatten = Flatten()(input_img)\n",
    "embed = Embedding(10, 2, input_length=1)(input_lbl)\n",
    "embed = Flatten()(embed)\n",
    "concat = Concatenate()([flatten, embed])\n",
    "dense = Dense(100, activation='sigmoid')(concat)\n",
    "dense = Dense(100, activation='sigmoid')(dense)\n",
    "\n",
    "out = Dense(1)(dense)\n",
    "    \n",
    "model = Model([input_img, input_lbl], out)\n",
    "\n",
    "clr = Triangular2CyclicalLearningRate(1e-7, 0.005, 7 * 469)\n",
    "\n",
    "model.compile(optimizer=opt.Adamax(0.01), loss='mae')\n",
    "model.summary()"
   ]
  },
  {
   "cell_type": "code",
   "execution_count": null,
   "id": "6ae88bf8-acf5-4b2a-8b08-76c84b3bd0c1",
   "metadata": {
    "tags": []
   },
   "outputs": [],
   "source": [
    "earlyStopCB = tf.keras.callbacks.EarlyStopping(monitor='val_loss', patience=20, restore_best_weights=True)\n",
    "LearningSchedulerCB = tf.keras.callbacks.ReduceLROnPlateau(monitor='loss', factor=0.5, min_lr=5e-9, patience=5)\n",
    "\n",
    "history = model.fit(x=[x_train, y_train], y=train_morpho[\"slant\"], batch_size=256, epochs=1000, validation_data=([x_test, y_test], test_morpho[\"slant\"]), callbacks=[earlyStopCB, LearningSchedulerCB])"
   ]
  },
  {
   "cell_type": "code",
   "execution_count": null,
   "id": "7e0cadda-972f-449e-8c22-6b9c6d140341",
   "metadata": {
    "tags": []
   },
   "outputs": [],
   "source": [
    "aver_adentro = Model(input_lbl, embed)\n",
    "labels = [0, 1, 2, 3, 4, 5, 6, 7, 8, 9]\n",
    "lindo = aver_adentro.predict(labels)\n",
    "print(lindo)\n",
    "plt.figure()\n",
    "x, y = lindo.T\n",
    "sns.scatterplot(x=x, y=y, style=labels)\n",
    "\n",
    "plt.show()\n",
    "aver = model.predict([x_test, y_test/10])\n",
    "print(aver)\n",
    "print(test_morpho)"
   ]
  }
 ],
 "metadata": {
  "kernelspec": {
   "display_name": "Python 3 (ipykernel)",
   "language": "python",
   "name": "python3"
  },
  "language_info": {
   "codemirror_mode": {
    "name": "ipython",
    "version": 3
   },
   "file_extension": ".py",
   "mimetype": "text/x-python",
   "name": "python",
   "nbconvert_exporter": "python",
   "pygments_lexer": "ipython3",
   "version": "3.10.11"
  }
 },
 "nbformat": 4,
 "nbformat_minor": 5
}
